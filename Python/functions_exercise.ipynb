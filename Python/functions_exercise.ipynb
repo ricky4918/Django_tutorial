{
 "cells": [
  {
   "cell_type": "code",
   "execution_count": 2,
   "metadata": {},
   "outputs": [
    {
     "name": "stdout",
     "output_type": "stream",
     "text": [
      "False\n"
     ]
    }
   ],
   "source": [
    "#####################################\n",
    "#### PART 9: FUNCTION EXERCISES #####\n",
    "#####################################\n",
    "\n",
    "\n",
    "# Complete the tasks below by writing functions! Keep in mind, these can be\n",
    "# really tough, its all about breaking the problem down into smaller, logical\n",
    "# steps. If you get stuck, don't feel bad about having to peek to the solutions!\n",
    "\n",
    "#####################\n",
    "## -- PROBLEM 1 -- ##\n",
    "#####################\n",
    "\n",
    "# Given a list of integers, return True if the sequence of numbers 1, 2, 3\n",
    "# appears in the list somewhere.\n",
    "\n",
    "# For example:\n",
    "\n",
    "# arrayCheck([1, 1, 2, 3, 1]) → True\n",
    "# arrayCheck([1, 1, 2, 4, 1]) → False\n",
    "# arrayCheck([1, 1, 2, 1, 2, 3]) → True\n",
    "\n",
    "def arrayCheck(nums):\n",
    "    # CODE GOES HERE\n",
    "    for i in range(len(nums)-2):\n",
    "      if nums[i] == 1 and nums[i+1] == 2 and nums[i+2] == 3:\n",
    "        return True\n",
    "    return False\n",
    "  \n",
    "nums = [1, 1, 2, 4, 1]\n",
    "print(arrayCheck(nums))\n",
    "      \n",
    "    "
   ]
  },
  {
   "cell_type": "code",
   "execution_count": 5,
   "metadata": {},
   "outputs": [
    {
     "name": "stdout",
     "output_type": "stream",
     "text": [
      "Hlo\n"
     ]
    }
   ],
   "source": [
    "#####################\n",
    "## -- PROBLEM 2 -- ##\n",
    "#####################\n",
    "\n",
    "# Given a string, return a new string made of every other character starting\n",
    "# with the first, so \"Hello\" yields \"Hlo\".\n",
    "\n",
    "# For example:\n",
    "\n",
    "# stringBits('Hello') → 'Hlo'\n",
    "# stringBits('Hi') → 'H'\n",
    "# stringBits('Heeololeo') → 'Hello'\n",
    "\n",
    "def stringBits(str):\n",
    "  # CODE GOES HERE\n",
    "  \n",
    "  result = ''\n",
    "  \n",
    "  result = result + str[::2]\n",
    "      \n",
    "  return result\n",
    "\n",
    "s = 'Hello'\n",
    "\n",
    "print(stringBits(s))\n",
    "  \n",
    "  \n"
   ]
  },
  {
   "cell_type": "code",
   "execution_count": 7,
   "metadata": {},
   "outputs": [
    {
     "name": "stdout",
     "output_type": "stream",
     "text": [
      "True\n"
     ]
    }
   ],
   "source": [
    "\n",
    "#####################\n",
    "## -- PROBLEM 3 -- ##\n",
    "#####################\n",
    "\n",
    "# Given two strings, return True if either of the strings appears at the very end\n",
    "# of the other string, ignoring upper/lower case differences (in other words, the\n",
    "# computation should not be \"case sensitive\").\n",
    "#\n",
    "# Note: s.lower() returns the lowercase version of a string.\n",
    "#\n",
    "# Examples:\n",
    "#\n",
    "# end_other('Hiabc', 'abc') → True\n",
    "# end_other('AbC', 'HiaBc') → True\n",
    "# end_other('abc', 'abXabc') → True\n",
    "\n",
    "\n",
    "def end_other(a, b):\n",
    "  \n",
    "  \n",
    "  a = a.lower() \n",
    "  b = b.lower()\n",
    "  \n",
    "  \n",
    "  #return (b.endswith(a) or a.endswith(b))\n",
    "  return a == b[-(len(a)):] or a[-(len(b)):] == b\n",
    "\n",
    "\n",
    "a = 'HiaBc'\n",
    "b = \"abc\"\n",
    "print(end_other(a, b))\n",
    "  # CODE GOES HERE\n",
    "\n"
   ]
  },
  {
   "cell_type": "code",
   "execution_count": 8,
   "metadata": {},
   "outputs": [
    {
     "name": "stdout",
     "output_type": "stream",
     "text": [
      "aaddcc\n"
     ]
    }
   ],
   "source": [
    "#####################\n",
    "## -- PROBLEM 4 -- ##\n",
    "#####################\n",
    "\n",
    "# Given a string, return a string where for every char in the original,\n",
    "# there are two chars.\n",
    "\n",
    "# doubleChar('The') → 'TThhee'\n",
    "# doubleChar('AAbb') → 'AAAAbbbb'\n",
    "# doubleChar('Hi-There') → 'HHii--TThheerree'\n",
    "\n",
    "def doubleChar(str):\n",
    "  \n",
    "  \n",
    "  result = ''\n",
    "  for char in str:\n",
    "    \n",
    "    result += char*2\n",
    "    \n",
    "  return result\n",
    "\n",
    "\n",
    "str = 'adc'\n",
    "print(doubleChar(str))\n",
    "    \n",
    "    \n",
    "\n",
    "\n"
   ]
  },
  {
   "cell_type": "code",
   "execution_count": 11,
   "metadata": {},
   "outputs": [
    {
     "name": "stdout",
     "output_type": "stream",
     "text": [
      "4\n"
     ]
    }
   ],
   "source": [
    "#####################\n",
    "## -- PROBLEM 5 -- ##\n",
    "#####################\n",
    "\n",
    "# Read this problem statement carefully!\n",
    "\n",
    "# Given 3 int values, a b c, return their sum. However, if any of the values is a\n",
    "# teen -- in the range 13-19 inclusive -- then that value counts as 0, except 15\n",
    "# and 16 do not count as a teens. Write a separate helper \"def fix_teen(n):\"that\n",
    "# takes in an int value and returns that value fixed for the teen rule.\n",
    "#\n",
    "# In this way, you avoid repeating the teen code 3 times (i.e. \"decomposition\").\n",
    "# Define the helper below and at the same indent level as the main no_teen_sum().\n",
    "# Again, you will have two functions for this problem!\n",
    "#\n",
    "# Examples:\n",
    "#\n",
    "# no_teen_sum(1, 2, 3) → 6\n",
    "# no_teen_sum(2, 13, 1) → 3\n",
    "# no_teen_sum(2, 1, 14) → 3\n",
    "\n",
    "def no_teen_sum(a, b, c):\n",
    "  \n",
    "  return fix_teen(a)+fix_teen(b)+fix_teen(c)\n",
    "  \n",
    "  \n",
    "def fix_teen(n):\n",
    "  # CODE GOES HERE\n",
    "  if n in [13,14,17,18,19]:\n",
    "    return 0\n",
    "  return n\n",
    "\n",
    "print(no_teen_sum(1,13,3))\n",
    "  \n",
    "\n"
   ]
  },
  {
   "cell_type": "code",
   "execution_count": 13,
   "metadata": {},
   "outputs": [
    {
     "name": "stdout",
     "output_type": "stream",
     "text": [
      "3\n"
     ]
    }
   ],
   "source": [
    "#####################\n",
    "## -- PROBLEM 6 -- ##\n",
    "#####################\n",
    "\n",
    "# Return the number of even integers in the given array.\n",
    "#\n",
    "# Examples:\n",
    "#\n",
    "# count_evens([2, 1, 2, 3, 4]) → 3\n",
    "# count_evens([2, 2, 0]) → 3\n",
    "# count_evens([1, 3, 5]) → 0\n",
    "\n",
    "def count_evens(nums):\n",
    "  # CODE GOES HERE\n",
    "  \n",
    "  count = 0\n",
    "  \n",
    "  \n",
    "  for element in nums:\n",
    "    if element%2 == 0:\n",
    "      count += 1\n",
    "      \n",
    "  return count\n",
    "      \n",
    "      \n",
    "list = [2, 1, 2, 3, 4]\n",
    "print(count_evens(list))"
   ]
  }
 ],
 "metadata": {
  "interpreter": {
   "hash": "8e464a1d0ae1f3ad3b20b4a70f5db3bba67210aaa693d07a3465bd26d81afaeb"
  },
  "kernelspec": {
   "display_name": "Python 3.10.4 ('.venv': venv)",
   "language": "python",
   "name": "python3"
  },
  "language_info": {
   "codemirror_mode": {
    "name": "ipython",
    "version": 3
   },
   "file_extension": ".py",
   "mimetype": "text/x-python",
   "name": "python",
   "nbconvert_exporter": "python",
   "pygments_lexer": "ipython3",
   "version": "3.10.4"
  },
  "orig_nbformat": 4
 },
 "nbformat": 4,
 "nbformat_minor": 2
}
