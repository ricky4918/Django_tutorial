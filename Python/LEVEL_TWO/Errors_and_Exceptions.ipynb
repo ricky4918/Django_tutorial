{
 "cells": [
  {
   "cell_type": "code",
   "execution_count": 10,
   "metadata": {},
   "outputs": [
    {
     "name": "stdout",
     "output_type": "stream",
     "text": [
      "EROOR:Could not find file or read Data!\n",
      "hello World\n"
     ]
    }
   ],
   "source": [
    "try:\n",
    "    f = open(\"simple.txt\", 'r')\n",
    "    f.write(\"test wirte to simple text!\")\n",
    "except:\n",
    "    print(\"EROOR:Could not find file or read Data!\")\n",
    "else:\n",
    "    print(\"Success!\")\n",
    "    f.close()\n",
    "    \n",
    "print(\"hello World\")"
   ]
  }
 ],
 "metadata": {
  "interpreter": {
   "hash": "daf22cc737a997920429a29924cd211a379293636b9e00c5fc5cf6f299636ab4"
  },
  "kernelspec": {
   "display_name": "Python 3.10.4 ('.venv': venv)",
   "language": "python",
   "name": "python3"
  },
  "language_info": {
   "codemirror_mode": {
    "name": "ipython",
    "version": 3
   },
   "file_extension": ".py",
   "mimetype": "text/x-python",
   "name": "python",
   "nbconvert_exporter": "python",
   "pygments_lexer": "ipython3",
   "version": "3.10.4"
  },
  "orig_nbformat": 4
 },
 "nbformat": 4,
 "nbformat_minor": 2
}
