{
 "cells": [
  {
   "cell_type": "code",
   "execution_count": 10,
   "metadata": {},
   "outputs": [
    {
     "name": "stdout",
     "output_type": "stream",
     "text": [
      "I'm searching for:term1\n",
      "Match\n",
      "I'm searching for:term2\n",
      "no match\n"
     ]
    }
   ],
   "source": [
    "import re\n",
    "\n",
    "patterns = ['term1', 'term2']\n",
    "\n",
    "text = 'this is a string with term1, not the other!'\n",
    "\n",
    "\n",
    "for pattern in patterns:\n",
    "    \n",
    "    print(\"I'm searching for:\"+pattern)\n",
    "    \n",
    "    \n",
    "    if re.search(pattern, text):\n",
    "        print(\"Match\")\n",
    "        \n",
    "    else: print(\"no match\")\n",
    "    \n"
   ]
  },
  {
   "cell_type": "code",
   "execution_count": 9,
   "metadata": {},
   "outputs": [
    {
     "name": "stdout",
     "output_type": "stream",
     "text": [
      "22\n"
     ]
    }
   ],
   "source": [
    "import re\n",
    "\n",
    "patterns = ['term1', 'term2']\n",
    "\n",
    "text = 'this is a string with term1, not the other!'\n",
    "\n",
    "match = re.search('term1',text)\n",
    "print(match.start())\n"
   ]
  },
  {
   "cell_type": "code",
   "execution_count": 11,
   "metadata": {},
   "outputs": [
    {
     "name": "stdout",
     "output_type": "stream",
     "text": [
      "['user', 'gmail.com']\n"
     ]
    }
   ],
   "source": [
    "split_term = '@'\n",
    "email = 'user@gmail.com'\n",
    "\n",
    "print(re.split(split_term,email))"
   ]
  },
  {
   "cell_type": "code",
   "execution_count": 12,
   "metadata": {},
   "outputs": [
    {
     "name": "stdout",
     "output_type": "stream",
     "text": [
      "['match', 'match']\n"
     ]
    }
   ],
   "source": [
    "test = re.findall(\"match\", \"test pharase match in match middle\")\n",
    "print(test)"
   ]
  },
  {
   "cell_type": "code",
   "execution_count": 21,
   "metadata": {},
   "outputs": [
    {
     "name": "stdout",
     "output_type": "stream",
     "text": [
      "searching for patternsd+\n",
      "['sd', 'sd', 'sddd', 'sddd', 'sddd', 'sd', 'sd', 'sd', 'sd', 'sd', 'sd', 'sddd', 'sdddd']\n",
      "\n",
      "\n",
      "searching for patternsd*\n",
      "['sd', 'sd', 's', 's', 's', 'sddd', 'sddd', 'sddd', 'sd', 'sd', 'sd', 's', 'sd', 'sd', 'sd', 's', 's', 's', 'sddd', 'sdddd']\n",
      "\n",
      "\n",
      "searching for patternsd{1,3}\n",
      "['sd', 'sd', 'sddd', 'sddd', 'sddd', 'sd', 'sd', 'sd', 'sd', 'sd', 'sd', 'sddd', 'sddd']\n",
      "\n",
      "\n",
      "searching for patterns[sd]+\n",
      "['sdsd', 'ssssddd', 'sdddsddd', 'sdsdsds', 'sdsdsds', 'sssddd', 'sdddd']\n",
      "\n",
      "\n"
     ]
    }
   ],
   "source": [
    "def multi_re_find(patterns, phrase):\n",
    "\n",
    "\n",
    "    for pattern in patterns:\n",
    "        print(\"searching for pattern{}\".format(pattern))\n",
    "        print(re.findall(pattern, phrase))\n",
    "        print('\\n')\n",
    "        \n",
    "        \n",
    "test_phrase = \"sdsd..ssssddd.sdddsddd.sdsdsds.sdsdsds.sssddd.sdddd\"\n",
    "\n",
    "test_patterns = [\"sd+\"]\n",
    "test_patterns2 = ['sd*']\n",
    "test_patterns3 = [\"sd{1,3}\"]\n",
    "test_patterns4 = ['s[sd]+']\n",
    "\n",
    "multi_re_find(test_patterns,test_phrase)\n",
    "multi_re_find(test_patterns2,test_phrase)\n",
    "multi_re_find(test_patterns3,test_phrase)\n",
    "multi_re_find(test_patterns4,test_phrase)\n",
    "        \n",
    "        "
   ]
  },
  {
   "cell_type": "code",
   "execution_count": 28,
   "metadata": {},
   "outputs": [
    {
     "name": "stdout",
     "output_type": "stream",
     "text": [
      "searching for pattern[^!.?]+\n",
      "['This is a string', ' But is has punctuation', ' How cna we remove it']\n",
      "\n",
      "\n",
      "searching for pattern[A-Z]+\n",
      "['T', 'B', 'H']\n",
      "\n",
      "\n",
      "searching for pattern\\d+\n",
      "['12312']\n",
      "\n",
      "\n",
      "searching for pattern\\S+\n",
      "['This', 'is', 'a', 'string', 'with', 'numbers', '12312', 'and', 'a', 'symbol', '#hashtag?']\n",
      "\n",
      "\n",
      "searching for pattern\\w+\n",
      "['This', 'is', 'a', 'string', 'with', 'numbers', '12312', 'and', 'a', 'symbol', 'hashtag']\n",
      "\n",
      "\n",
      "searching for pattern\\W+\n",
      "[' ', ' ', ' ', ' ', ' ', ' ', ' ', ' ', ' ', ' #', '?']\n",
      "\n",
      "\n"
     ]
    }
   ],
   "source": [
    "def multi_re_find(patterns, phrase):\n",
    "    \n",
    "\n",
    "    for pattern in patterns:\n",
    "        print(\"searching for pattern{}\".format(pattern))\n",
    "        print(re.findall(pattern, phrase))\n",
    "        print('\\n')\n",
    "        \n",
    "        \n",
    "test_phrase = \"This is a string! But is has punctuation. How cna we remove it?\"\n",
    "test_phrase2 = \"This is a string with numbers 12312 and a symbol #hashtag?\"\n",
    "\n",
    "test_patterns = [\"[^!.?]+\"]\n",
    "test_patterns2 = [\"[A-Z]+\"]\n",
    "test_patterns3 = [r'\\d+']\n",
    "test_patterns4 = [r'\\S+']\n",
    "test_patterns5 = [r'\\w+']\n",
    "test_patterns6 = [r'\\W+']\n",
    "\n",
    "\n",
    "multi_re_find(test_patterns,test_phrase)\n",
    "multi_re_find(test_patterns2,test_phrase)\n",
    "multi_re_find(test_patterns3,test_phrase2)\n",
    "multi_re_find(test_patterns4,test_phrase2)\n",
    "multi_re_find(test_patterns5,test_phrase2)\n",
    "multi_re_find(test_patterns6,test_phrase2)"
   ]
  }
 ],
 "metadata": {
  "interpreter": {
   "hash": "daf22cc737a997920429a29924cd211a379293636b9e00c5fc5cf6f299636ab4"
  },
  "kernelspec": {
   "display_name": "Python 3.10.4 ('.venv': venv)",
   "language": "python",
   "name": "python3"
  },
  "language_info": {
   "codemirror_mode": {
    "name": "ipython",
    "version": 3
   },
   "file_extension": ".py",
   "mimetype": "text/x-python",
   "name": "python",
   "nbconvert_exporter": "python",
   "pygments_lexer": "ipython3",
   "version": "3.10.4"
  },
  "orig_nbformat": 4
 },
 "nbformat": 4,
 "nbformat_minor": 2
}
