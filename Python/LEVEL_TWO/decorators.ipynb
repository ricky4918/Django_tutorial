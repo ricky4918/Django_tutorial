{
 "cells": [
  {
   "cell_type": "code",
   "execution_count": 14,
   "metadata": {},
   "outputs": [
    {
     "name": "stdout",
     "output_type": "stream",
     "text": [
      "50\n",
      "{'my_local': 10}\n"
     ]
    },
    {
     "ename": "TypeError",
     "evalue": "globals() takes no arguments (1 given)",
     "output_type": "error",
     "traceback": [
      "\u001b[1;31m---------------------------------------------------------------------------\u001b[0m",
      "\u001b[1;31mTypeError\u001b[0m                                 Traceback (most recent call last)",
      "\u001b[1;32md:\\Django_tutorial\\Python\\LEVEL_TWO\\decorators.ipynb Cell 1'\u001b[0m in \u001b[0;36m<cell line: 12>\u001b[1;34m()\u001b[0m\n\u001b[0;32m      <a href='vscode-notebook-cell:/d%3A/Django_tutorial/Python/LEVEL_TWO/decorators.ipynb#ch0000000?line=7'>8</a>\u001b[0m     \u001b[39mprint\u001b[39m(\u001b[39mlocals\u001b[39m())\n\u001b[0;32m      <a href='vscode-notebook-cell:/d%3A/Django_tutorial/Python/LEVEL_TWO/decorators.ipynb#ch0000000?line=8'>9</a>\u001b[0m     \u001b[39mprint\u001b[39m(\u001b[39mglobals\u001b[39m(s))\n\u001b[1;32m---> <a href='vscode-notebook-cell:/d%3A/Django_tutorial/Python/LEVEL_TWO/decorators.ipynb#ch0000000?line=11'>12</a>\u001b[0m func()\n\u001b[0;32m     <a href='vscode-notebook-cell:/d%3A/Django_tutorial/Python/LEVEL_TWO/decorators.ipynb#ch0000000?line=12'>13</a>\u001b[0m \u001b[39mprint\u001b[39m(s)\n",
      "\u001b[1;32md:\\Django_tutorial\\Python\\LEVEL_TWO\\decorators.ipynb Cell 1'\u001b[0m in \u001b[0;36mfunc\u001b[1;34m()\u001b[0m\n\u001b[0;32m      <a href='vscode-notebook-cell:/d%3A/Django_tutorial/Python/LEVEL_TWO/decorators.ipynb#ch0000000?line=6'>7</a>\u001b[0m \u001b[39mprint\u001b[39m(s)\n\u001b[0;32m      <a href='vscode-notebook-cell:/d%3A/Django_tutorial/Python/LEVEL_TWO/decorators.ipynb#ch0000000?line=7'>8</a>\u001b[0m \u001b[39mprint\u001b[39m(\u001b[39mlocals\u001b[39m())\n\u001b[1;32m----> <a href='vscode-notebook-cell:/d%3A/Django_tutorial/Python/LEVEL_TWO/decorators.ipynb#ch0000000?line=8'>9</a>\u001b[0m \u001b[39mprint\u001b[39m(\u001b[39mglobals\u001b[39;49m(s))\n",
      "\u001b[1;31mTypeError\u001b[0m: globals() takes no arguments (1 given)"
     ]
    }
   ],
   "source": [
    "s = \"Global variable\"\n",
    "\n",
    "def func():\n",
    "    global s\n",
    "    my_local = 10\n",
    "    s = 50\n",
    "    print(s)\n",
    "    print(locals())\n",
    "    print(globals())\n",
    "\n",
    "\n",
    "func()\n",
    "print(s)"
   ]
  },
  {
   "cell_type": "code",
   "execution_count": 16,
   "metadata": {},
   "outputs": [
    {
     "name": "stdout",
     "output_type": "stream",
     "text": [
      "hello Jose\n",
      "hello Jose\n"
     ]
    }
   ],
   "source": [
    "def hello(name='Jose'):\n",
    "    \n",
    "    return \"hello \"+ name\n",
    "\n",
    "print(hello())\n",
    "\n",
    "mygreet = hello\n",
    "\n",
    "print(mygreet())"
   ]
  },
  {
   "cell_type": "code",
   "execution_count": 18,
   "metadata": {},
   "outputs": [
    {
     "name": "stdout",
     "output_type": "stream",
     "text": [
      "hello\n",
      "Hi jose\n"
     ]
    }
   ],
   "source": [
    "def hello():\n",
    "    return \"Hi jose\"\n",
    "\n",
    "\n",
    "def other(func):\n",
    "    print(\"hello\")\n",
    "    print(func())\n",
    "    \n",
    "other(hello)"
   ]
  },
  {
   "cell_type": "code",
   "execution_count": 23,
   "metadata": {},
   "outputs": [
    {
     "name": "stdout",
     "output_type": "stream",
     "text": [
      "code here before executing func\n",
      "this func tis in need of a decorator\n",
      "func() has been called\n"
     ]
    }
   ],
   "source": [
    "def new_decorator(func):\n",
    "    \n",
    "    def wrap_func():\n",
    "        print(\"code here before executing func\")\n",
    "        func()\n",
    "        print(\"func() has been called\")\n",
    "        \n",
    "    return wrap_func\n",
    "\n",
    "@new_decorator\n",
    "def func_needs_decorator():\n",
    "    \n",
    "    print(\"this func tis in need of a decorator\")\n",
    "    \n",
    "\n",
    "\n",
    "# func_needs_decorator = new_decorator(func_needs_decorator)\n",
    "\n",
    "\n",
    "\n",
    "func_needs_decorator()"
   ]
  }
 ],
 "metadata": {
  "interpreter": {
   "hash": "daf22cc737a997920429a29924cd211a379293636b9e00c5fc5cf6f299636ab4"
  },
  "kernelspec": {
   "display_name": "Python 3.10.4 ('.venv': venv)",
   "language": "python",
   "name": "python3"
  },
  "language_info": {
   "codemirror_mode": {
    "name": "ipython",
    "version": 3
   },
   "file_extension": ".py",
   "mimetype": "text/x-python",
   "name": "python",
   "nbconvert_exporter": "python",
   "pygments_lexer": "ipython3",
   "version": "3.10.4"
  },
  "orig_nbformat": 4
 },
 "nbformat": 4,
 "nbformat_minor": 2
}
