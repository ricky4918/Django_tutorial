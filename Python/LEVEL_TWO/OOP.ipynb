{
 "cells": [
  {
   "cell_type": "code",
   "execution_count": 1,
   "metadata": {},
   "outputs": [
    {
     "name": "stdout",
     "output_type": "stream",
     "text": [
      "lab\n",
      "Sammy\n",
      "mammal\n"
     ]
    }
   ],
   "source": [
    "\n",
    "class Dog():\n",
    "    \n",
    "    species = \"mammal\"\n",
    "    \n",
    "    def __init__(self, breed,name):\n",
    "        \n",
    "        self.breed = breed\n",
    "        self.name = name\n",
    "\n",
    "myDog = Dog(breed = \"lab\", name = \"Sammy\")\n",
    "\n",
    "print(myDog.breed)\n",
    "print(myDog.name)\n",
    "print(myDog.species)"
   ]
  },
  {
   "cell_type": "code",
   "execution_count": 12,
   "metadata": {},
   "outputs": [
    {
     "name": "stdout",
     "output_type": "stream",
     "text": [
      "28.26\n"
     ]
    }
   ],
   "source": [
    "class Circle():\n",
    "    \n",
    "    pi = 3.14\n",
    "    \n",
    "    def __init__(self, radius=1):\n",
    "       \n",
    "       self.radius = radius\n",
    "    def area(self):\n",
    "        \n",
    "        return self.radius*self.radius *Circle.pi   \n",
    "    \n",
    "    def set_radious(self, new_r):\n",
    "    \n",
    "        self.radius = new_r\n",
    "       \n",
    "       \n",
    "myc = Circle(1)\n",
    "myc.set_radious(3)\n",
    "print(myc.area())"
   ]
  },
  {
   "cell_type": "code",
   "execution_count": 9,
   "metadata": {},
   "outputs": [
    {
     "name": "stdout",
     "output_type": "stream",
     "text": [
      "Dog Created\n",
      "Animal\n",
      "Dog Eating\n",
      "WOOF\n"
     ]
    }
   ],
   "source": [
    "class Animal():\n",
    "    \n",
    "    def __init__(self):\n",
    "        print(\"Animal CREATED\")\n",
    "        \n",
    "    def whoAmI(self):\n",
    "        print(\"Animal\")\n",
    "        \n",
    "    def eat(self):\n",
    "            print(\"Eating\")\n",
    "            \n",
    "\n",
    "class Dog(Animal):\n",
    "    \n",
    "    def __init__(self):\n",
    "        \n",
    "        #Animal.__init__(self)\n",
    "        print(\"Dog Created\")\n",
    "        \n",
    "    def bark(self):\n",
    "        print(\"WOOF\")\n",
    "        \n",
    "    def eat(self):\n",
    "            print(\"Dog Eating\")\n",
    "        \n",
    "        \n",
    "mya = Dog()\n",
    "mya.whoAmI()\n",
    "mya.eat()\n",
    "mya.bark()\n",
    "          "
   ]
  },
  {
   "cell_type": "code",
   "execution_count": 16,
   "metadata": {},
   "outputs": [
    {
     "name": "stdout",
     "output_type": "stream",
     "text": [
      "a book is destroyed!\n",
      "Title: Pyhton Author: jose Pages: 200\n",
      "200\n",
      "a book is destroyed!\n"
     ]
    }
   ],
   "source": [
    "class Book():\n",
    "    \n",
    "    def __init__(self, title, author, pages):\n",
    "        self.title = title\n",
    "        self.author = author\n",
    "        self.pages = pages\n",
    "        \n",
    "    def __str__(self):\n",
    "        \n",
    "        return \"Title: {} Author: {} Pages: {}\".format(self.title, self.author, self.pages)\n",
    "    \n",
    "    \n",
    "    def __len__(self):\n",
    "        return self.pages\n",
    "    \n",
    "    def __del__(self):\n",
    "        print(\"a book is destroyed!\")\n",
    "    \n",
    "myBook = Book(\"Pyhton\", \"jose\", 200)\n",
    "print(myBook)\n",
    "print(len(myBook))\n",
    "del myBook\n"
   ]
  }
 ],
 "metadata": {
  "interpreter": {
   "hash": "daf22cc737a997920429a29924cd211a379293636b9e00c5fc5cf6f299636ab4"
  },
  "kernelspec": {
   "display_name": "Python 3.10.4 ('.venv': venv)",
   "language": "python",
   "name": "python3"
  },
  "language_info": {
   "codemirror_mode": {
    "name": "ipython",
    "version": 3
   },
   "file_extension": ".py",
   "mimetype": "text/x-python",
   "name": "python",
   "nbconvert_exporter": "python",
   "pygments_lexer": "ipython3",
   "version": "3.10.4"
  },
  "orig_nbformat": 4
 },
 "nbformat": 4,
 "nbformat_minor": 2
}
